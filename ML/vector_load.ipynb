{
 "cells": [
  {
   "cell_type": "code",
   "execution_count": null,
   "metadata": {},
   "outputs": [],
   "source": [
    "import torch\n",
    "import numpy as np\n",
    "\n",
    "from inference import infer, load_for_inference\n",
    "from dataloader import load_sequences\n",
    "\n",
    "sequence, label = load_sequences('trainingdata')\n",
    "\n",
    "model, tokenizer, label_dict = load_for_inference('emb.pth','gene_tokenizer.json','label_dict.json',\n",
    " skip_gram=True)\n",
    "\n",
    "batch_size = 1000\n",
    "num_batches = len(sequence) // batch_size\n",
    "if len(sequence) % batch_size != 0:\n",
    "    num_batches += 1\n",
    "\n",
    "all_embeddings = []\n",
    "for i in range(num_batches):\n",
    "    emb = infer(sequence[i * batch_size: (i+1) * batch_size], tokenizer, model)\n",
    "    all_embeddings.append(emb)\n",
    "\n",
    "all_embeddings = torch.cat(all_embeddings, 0).numpy()\n",
    "\n",
    "np.save('virus_embeddings.npy', all_embeddings)\n",
    "\n",
    "#PCA\n",
    "\n",
    "from sklearn.decomposition import PCA\n",
    "import pickle\n",
    "\n",
    "pca = PCA(n_components=3) # reduce to 3d\n",
    "pca.fit(all_embeddings)\n",
    "embeddings_3d = pca.transform(all_embeddings)\n",
    "\n",
    "np.save('virus_embeddings_3d.npy',embeddings_3d)\n",
    "\n",
    "with open('virus_pca.pkl','wb') as f:\n",
    "    pickle.dump(f,pca)"
   ]
  }
 ],
 "metadata": {
  "interpreter": {
   "hash": "1242238a27090cfd0a9f95cca18072a5b0343382fab30269241b63569e4c53cd"
  },
  "kernelspec": {
   "display_name": "Python 3.9.12 64-bit ('datascience': conda)",
   "name": "python3"
  },
  "language_info": {
   "name": "python",
   "version": ""
  },
  "orig_nbformat": 4
 },
 "nbformat": 4,
 "nbformat_minor": 2
}