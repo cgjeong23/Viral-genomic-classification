{
 "cells": [
  {
   "cell_type": "code",
   "execution_count": null,
   "metadata": {},
   "outputs": [],
   "source": [
    "import torch\n",
    "import numpy as np\n",
    "\n",
    "from inference import infer, load_for_inference\n",
    "from dataloader import load_sequences\n",
    "\n",
    "device = torch.device('cuda' if torch.cuda.is_available() else 'cpu')\n",
    "\n",
    "sequence, label = load_sequences('trainingdata')\n",
    "\n",
    "label_index = {k: [] for k in set(label)}\n",
    "\n",
    "for i, l in enumerate(label):\n",
    "    label_index[l].append(i)\n",
    "\n",
    "label_index = {k: np.random.choice(v, 100000) for k, v in label_index.items()}\n",
    "\n",
    "sampled_index = np.concatenate(list(label_index.values()))\n",
    "\n",
    "sequence = [sequence[i] for i in sampled_index]\n",
    "label = [label[i] for i in sampled_index]\n",
    "\n",
    "model, tokenizer, label_dict = load_for_inference('assets/model.pth','assets/gene_tokenizer.json','assets/label_dict.json',\n",
    " skip_gram=True)\n",
    "\n",
    "model = model.to(device)\n",
    "\n",
    "batch_size = 1000\n",
    "num_batches = len(sequence) // batch_size\n",
    "if len(sequence) % batch_size != 0:\n",
    "    num_batches += 1\n",
    "\n",
    "all_embeddings = []\n",
    "for i in range(num_batches):\n",
    "    emb = infer(sequence[i * batch_size: (i+1) * batch_size], tokenizer, model.embedding, device=device)\n",
    "    all_embeddings.append(emb)\n",
    "\n",
    "all_embeddings = torch.cat(all_embeddings, 0).numpy()\n",
    "\n",
    "np.save('assets/virus_embeddings.npy', all_embeddings)\n",
    "with open('assets/label.pkl','wb') as f:\n",
    "    pickle.dump(label, f)\n",
    "\n",
    "#PCA\n",
    "\n",
    "from sklearn.decomposition import PCA\n",
    "import pickle\n",
    "\n",
    "pca = PCA(n_components=3) # reduce to 3d\n",
    "pca.fit(all_embeddings)\n",
    "embeddings_3d = pca.transform(all_embeddings)\n",
    "\n",
    "np.save('assets/virus_embeddings_3d.npy',embeddings_3d)\n",
    "\n",
    "with open('assets/virus_pca.pkl','wb') as f:\n",
    "    pickle.dump(f,pca)"
   ]
  }
 ],
 "metadata": {
  "kernelspec": {
   "display_name": "Python 3.9.10 ('tf-m1')",
   "language": "python",
   "name": "python3"
  },
  "language_info": {
   "name": "python",
   "version": "3.9.10"
  },
  "orig_nbformat": 4,
  "vscode": {
   "interpreter": {
    "hash": "e79170ae290057d802c0bc8323610d82df653b25ece5c46593757efbea4a04e3"
   }
  }
 },
 "nbformat": 4,
 "nbformat_minor": 2
}
