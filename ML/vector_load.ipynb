{
 "cells": [
  {
   "cell_type": "markdown",
   "metadata": {},
   "source": [
    "## Kaggle Settings"
   ]
  },
  {
   "cell_type": "code",
   "execution_count": null,
   "metadata": {},
   "outputs": [],
   "source": [
    "!pip install tokenizers"
   ]
  },
  {
   "cell_type": "code",
   "execution_count": null,
   "metadata": {},
   "outputs": [],
   "source": [
    "from google.colab import drive\n",
    "drive.mount('/content/drive')"
   ]
  },
  {
   "cell_type": "code",
   "execution_count": null,
   "metadata": {},
   "outputs": [],
   "source": [
    "!git clone https://github.com/cgjeong23/Viral-genomic-classification.git virus\n",
    "\n",
    "%cd virus"
   ]
  },
  {
   "cell_type": "markdown",
   "metadata": {},
   "source": [
    "## Run"
   ]
  },
  {
   "cell_type": "code",
   "execution_count": null,
   "metadata": {},
   "outputs": [],
   "source": [
    "use_kaggle = True\n",
    "\n",
    "train_data_path = '../../input/pacific-sra/trainingdata' if use_kaggle else 'trainingdata'\n",
    "save_path = '/kaggle/working' if use_kaggle else 'assets'"
   ]
  },
  {
   "cell_type": "code",
   "execution_count": null,
   "metadata": {},
   "outputs": [],
   "source": [
    "import torch\n",
    "import numpy as np\n",
    "import pickle\n",
    "\n",
    "from ML.inference import infer, load_for_inference\n",
    "from ML.dataloader import load_sequences\n",
    "\n",
    "device = torch.device('cuda' if torch.cuda.is_available() else 'cpu')\n",
    "\n",
    "sequence, label = load_sequences(train_data_path)\n",
    "\n",
    "label_index = {k: [] for k in set(label)}\n",
    "\n",
    "for i, l in enumerate(label):\n",
    "    label_index[l].append(i)\n",
    "\n",
    "label_index = {k: np.random.choice(v, 100000) for k, v in label_index.items()}\n",
    "\n",
    "sampled_index = np.concatenate(list(label_index.values()))\n",
    "\n",
    "sequence = [sequence[i] for i in sampled_index]\n",
    "label = [label[i] for i in sampled_index]\n",
    "\n",
    "model, tokenizer, label_dict = load_for_inference('ML/assets/model.pth',\n",
    "                                                  'ML/assets/gene_tokenizer.json',\n",
    "                                                  'ML/assets/label_dict.json')\n",
    "\n",
    "model = model.to(device)\n",
    "\n",
    "batch_size = 1000\n",
    "num_batches = len(sequence) // batch_size\n",
    "if len(sequence) % batch_size != 0:\n",
    "    num_batches += 1\n",
    "\n",
    "all_embeddings = []\n",
    "for i in range(num_batches):\n",
    "    emb = infer(sequence[i * batch_size: (i+1) * batch_size], \n",
    "                tokenizer, \n",
    "                model.embedding, \n",
    "                device=device)\n",
    "    all_embeddings.append(emb)\n",
    "\n",
    "all_embeddings = torch.cat(all_embeddings, 0).cpu().numpy()\n",
    "\n",
    "\n",
    "np.save(f'{save_path}/virus_embeddings.npy', all_embeddings)\n",
    "with open(f'{save_path}/label.pkl','wb') as f:\n",
    "    pickle.dump(label, f)"
   ]
  },
  {
   "cell_type": "markdown",
   "metadata": {},
   "source": [
    "### Do PCA"
   ]
  },
  {
   "cell_type": "code",
   "execution_count": null,
   "metadata": {},
   "outputs": [],
   "source": [
    "from sklearn.decomposition import PCA\n",
    "\n",
    "pca = PCA(n_components=3) # reduce to 3d\n",
    "pca.fit(all_embeddings)\n",
    "embeddings_3d = pca.transform(all_embeddings)\n",
    "\n",
    "np.save(f'{save_path}/virus_embeddings_3d.npy',embeddings_3d)\n",
    "\n",
    "with open(f'{save_path}/virus_pca.pkl','wb') as f:\n",
    "    pickle.dump(pca, f)"
   ]
  }
 ],
 "metadata": {
  "kernelspec": {
   "display_name": "Python 3.9.10 ('tf-m1')",
   "language": "python",
   "name": "python3"
  },
  "language_info": {
   "name": "python",
   "version": "3.9.10"
  },
  "orig_nbformat": 4,
  "vscode": {
   "interpreter": {
    "hash": "e79170ae290057d802c0bc8323610d82df653b25ece5c46593757efbea4a04e3"
   }
  }
 },
 "nbformat": 4,
 "nbformat_minor": 2
}
