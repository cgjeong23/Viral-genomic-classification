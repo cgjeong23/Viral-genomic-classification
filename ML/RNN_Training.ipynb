{
  "cells": [
    {
      "cell_type": "code",
      "execution_count": 1,
      "metadata": {
        "colab": {
          "base_uri": "https://localhost:8080/"
        },
        "id": "pLT-kTPRw2a7",
        "outputId": "44312146-5f2a-49a2-d775-232a30abb7e5"
      },
      "outputs": [
        {
          "output_type": "stream",
          "name": "stdout",
          "text": [
            "Looking in indexes: https://pypi.org/simple, https://us-python.pkg.dev/colab-wheels/public/simple/\n",
            "Collecting tokenizers\n",
            "  Downloading tokenizers-0.12.1-cp37-cp37m-manylinux_2_12_x86_64.manylinux2010_x86_64.whl (6.6 MB)\n",
            "\u001b[K     |████████████████████████████████| 6.6 MB 6.4 MB/s \n",
            "\u001b[?25hInstalling collected packages: tokenizers\n",
            "Successfully installed tokenizers-0.12.1\n"
          ]
        }
      ],
      "source": [
        "!pip install tokenizers"
      ]
    },
    {
      "cell_type": "code",
      "source": [
        "from google.colab import drive\n",
        "drive.mount('/content/drive')"
      ],
      "metadata": {
        "id": "OsAs362r7Gzq",
        "outputId": "a22b44cb-c935-4357-c012-40bfe0edb9b1",
        "colab": {
          "base_uri": "https://localhost:8080/"
        }
      },
      "execution_count": 2,
      "outputs": [
        {
          "output_type": "stream",
          "name": "stdout",
          "text": [
            "Mounted at /content/drive\n"
          ]
        }
      ]
    },
    {
      "cell_type": "markdown",
      "metadata": {
        "id": "8sZWclAPr9iv"
      },
      "source": [
        "## DataLoader"
      ]
    },
    {
      "cell_type": "code",
      "execution_count": 2,
      "metadata": {
        "id": "ftlQvoIZ7D6w"
      },
      "outputs": [],
      "source": [
        "import os\n",
        "import math\n",
        "\n",
        "from tokenizers import Tokenizer, models\n",
        "\n",
        "base_path = '/content/drive/MyDrive/trainingdata'"
      ]
    },
    {
      "cell_type": "code",
      "execution_count": 3,
      "metadata": {
        "id": "01_mwR757D6w"
      },
      "outputs": [],
      "source": [
        "def load_sequences(base_path):\n",
        "    sequences = []\n",
        "    labels = []\n",
        "    for folder in os.listdir(base_path):\n",
        "        if os.path.isdir(f'{base_path}/{folder}'):\n",
        "            for file_name in os.listdir(f'{base_path}/{folder}'):\n",
        "                fname = f'{base_path}/{folder}/{file_name}'\n",
        "                with open(fname) as f:\n",
        "                    for line in f:\n",
        "                        if line.startswith('>'):\n",
        "                            continue\n",
        "                        sequences.append(line)\n",
        "                        labels.append(folder)\n",
        "    return sequences, labels"
      ]
    },
    {
      "cell_type": "code",
      "execution_count": 4,
      "metadata": {
        "id": "jpEC676_rdlz"
      },
      "outputs": [],
      "source": [
        "from torch.utils.data import Dataset, DataLoader\n",
        "import torch\n",
        "from torch.nn.utils.rnn import pad_sequence\n",
        "\n",
        "class SequenceDataset(Dataset):\n",
        "    def __init__(self, sequence, labels, tokenizer_file='gene_tokenizer.json'):\n",
        "        \"\"\"sequence: List of Str\n",
        "        \n",
        "        [\"ACTG...\", \"GTCA...\", ...]\n",
        "        \"\"\"\n",
        "        self.sequence = sequence\n",
        "        self.label_dict = self.get_label_dict(labels)\n",
        "        self.labels = self.encode_labels(labels)\n",
        "\n",
        "        self.tokenizer = Tokenizer(models.BPE(unk_token=\"[UNK]\"))\n",
        "        self.tokenizer = self.tokenizer.from_file(tokenizer_file)\n",
        "        self.tokenizer.enable_padding()\n",
        "\n",
        "    def get_label_dict(self, labels):\n",
        "        label_set = set(labels)\n",
        "        label_dict = {}\n",
        "        for i, x in enumerate(label_set):\n",
        "            label_dict[x] = i\n",
        "        \n",
        "        return label_dict\n",
        "    \n",
        "    def encode_labels(self, labels):\n",
        "        encoded_label = []  \n",
        "        for y in labels:\n",
        "            encoded_label.append(self.label_dict[y])\n",
        "\n",
        "        return encoded_label\n",
        "            \n",
        "        \n",
        "    def __len__(self):\n",
        "        return len(self.sequence)\n",
        "\n",
        "    def __getitem__(self, idx):\n",
        "        seq = self.sequence[idx]\n",
        "        label = self.labels[idx]\n",
        "        encoded_seq = self.tokenizer.encode(seq)\n",
        "        return torch.LongTensor(encoded_seq.ids), label\n",
        "\n",
        "\n",
        "    def collate_fn(self, batch):\n",
        "        \"\"\"batch: list of (torch.LongTensor, int)\"\"\"\n",
        "        sequences = []\n",
        "        labels = []\n",
        "        for item in batch:\n",
        "            sequences.append(item[0])\n",
        "            labels.append(item[1])\n",
        "            \n",
        "        sequence = pad_sequence(sequences, batch_first=True, padding_value=self.tokenizer.padding['pad_id'])\n",
        "        labels = torch.LongTensor(labels)\n",
        "        \n",
        "        return sequence, labels\n"
      ]
    },
    {
      "cell_type": "markdown",
      "metadata": {
        "id": "rMS3-rETr_Mt"
      },
      "source": [
        "## Model"
      ]
    },
    {
      "cell_type": "code",
      "execution_count": 5,
      "metadata": {
        "id": "nTejCh9xr_1n"
      },
      "outputs": [],
      "source": [
        "from torch import nn\n",
        "\n",
        "class RnnModel(nn.Module):\n",
        "    def __init__(self, vocab_size, embedding_dim, pad_id, hidden_dim, num_layers):\n",
        "        super().__init__()\n",
        "        self.embedding = nn.Embedding(vocab_size, embedding_dim, padding_idx=pad_id)\n",
        "        self.rnn = nn.LSTM(embedding_dim, hidden_dim, num_layers, batch_first=True)\n",
        "        self.out_layer = nn.Linear(hidden_dim, vocab_size)\n",
        "\n",
        "    def forward(self, ids):\n",
        "        # ids: [batch size, max sequence length] = [B, L]\n",
        "        embedded = self.embedding(ids)  # [B, L, E]\n",
        "        rnn_out, _ = self.rnn(embedded)  # [B, L, H]\n",
        "        return self.out_layer(rnn_out)  # [B, L, V]\n",
        "\n",
        "class RnnModelForClassification(nn.Module):\n",
        "    def __init__(self, vocab_size, embedding_dim, pad_id, hidden_dim, num_layers, output_size):\n",
        "        super().__init__()\n",
        "        self.embedding = nn.Embedding(vocab_size, embedding_dim, padding_idx=pad_id)\n",
        "        self.rnn = nn.LSTM(embedding_dim, hidden_dim, num_layers, batch_first=True)\n",
        "        self.out_layer = nn.Linear(hidden_dim, output_size)\n",
        "    \n",
        "    def forward(self, ids):\n",
        "        # ids: [batch size, max sequence length] = [B, L]\n",
        "        embedded = self.embedding(ids)  # [B, L, E]\n",
        "        rnn_out, _ = self.rnn(embedded)  # [B, L, H]\n",
        "        hidden_state = rnn_out[:, -1, :]  # [B, H]\n",
        "        return self.out_layer(hidden_state)  # [B, C]\n"
      ]
    },
    {
      "cell_type": "markdown",
      "metadata": {
        "id": "TgkBpBRNsBXh"
      },
      "source": [
        "## Training"
      ]
    },
    {
      "cell_type": "code",
      "execution_count": 6,
      "metadata": {
        "id": "Umon_VN4sB-q"
      },
      "outputs": [],
      "source": [
        "from tqdm.notebook import tqdm\n",
        "import numpy as np\n",
        "from sklearn.metrics import classification_report, accuracy_score\n",
        "\n",
        "def train(model, dataloader, loss_function, lr, num_epochs):\n",
        "    # pytorch training loop\n",
        "    optimizer = torch.optim.Adam(model.parameters(), lr=lr)\n",
        "\n",
        "    history = []\n",
        "    for epoch in range(num_epochs):\n",
        "        pbar = tqdm(dataloader)\n",
        "\n",
        "        all_preds = []\n",
        "        all_labels = []\n",
        "        average_loss = []\n",
        "\n",
        "\n",
        "        average_loss = []\n",
        "        for batch in pbar:\n",
        "\n",
        "            batch_sequences, y = batch\n",
        "            x = batch_sequences.to('cuda')\n",
        "            y = y.to('cuda')\n",
        "\n",
        "            h = model(x)  # [B, C]\n",
        "            j = loss_function(h, y)\n",
        "            \n",
        "            # do gradient descent\n",
        "            optimizer.zero_grad()  # remove junk from last step\n",
        "            j.backward()   # calculate gradient from current batch outputs\n",
        "            optimizer.step()  # update the weights using the gradients\n",
        "\n",
        "            average_loss.append(j.item())\n",
        "            all_preds.append(h.argmax(-1).detach().cpu())\n",
        "            all_labels.append(y.cpu())\n",
        "    \n",
        "        print(classification_report(all_labels, all_preds, digits=4))\n",
        "        accuracy = accuracy_score(all_labels, all_preds)\n",
        "        \n",
        "        history.append(accuracy)\n",
        "    \n",
        "    return history\n",
        "\n"
      ]
    },
    {
      "cell_type": "markdown",
      "metadata": {
        "id": "XrCrHVRv4Nuz"
      },
      "source": [
        "# Do Training"
      ]
    },
    {
      "cell_type": "code",
      "source": [
        "tokenizer_file = '/content/drive/MyDrive/gene_tokenizer.json'\n",
        "\n",
        "sequences, labels = load_sequences(base_path)\n",
        "dataset = SequenceDataset(sequences, labels, tokenizer_file=tokenizer_file)"
      ],
      "metadata": {
        "id": "ndB83Lk_8-du"
      },
      "execution_count": null,
      "outputs": []
    },
    {
      "cell_type": "code",
      "execution_count": 13,
      "metadata": {
        "id": "CwT_tWpX5czF"
      },
      "outputs": [],
      "source": [
        "lr = 1e-4\n",
        "batch_size = 5000\n",
        "num_epochs = 1\n",
        "vocab_size = dataset.tokenizer.get_vocab_size()\n",
        "pad_id = dataset.tokenizer.padding['pad_id']\n",
        "embedding_dim = 256\n",
        "hidden_dim = 512\n",
        "num_layers = 1"
      ]
    },
    {
      "cell_type": "code",
      "execution_count": 14,
      "metadata": {
        "id": "ilx5kkj74d1h"
      },
      "outputs": [],
      "source": [
        "#model = RnnModel(vocab_size, embedding_dim, pad_id, hidden_dim, num_layers)\n",
        "model = RnnModelForClassification(vocab_size, embedding_dim, pad_id, hidden_dim, num_layers, len(dataset.label_dict))\n",
        "model = model.to('cuda')\n",
        "dataloader = DataLoader(dataset, batch_size=batch_size, shuffle=True, collate_fn=dataset.collate_fn)\n",
        "loss_function = nn.CrossEntropyLoss()"
      ]
    },
    {
      "cell_type": "code",
      "execution_count": null,
      "metadata": {
        "colab": {
          "base_uri": "https://localhost:8080/",
          "height": 49,
          "referenced_widgets": [
            "d7ed5eae024049f6aa67988a6c118546",
            "9ca96a496e414b3da195f6828ae5f361",
            "54ff2da6dfd74514be3600a0f84b6d24",
            "aab4f4e178db4f3b8a31dd35638c7eb8",
            "482f2f03e77240748dc162ceae15d70f",
            "171624f49c8e417eaf851a26ed4eba94",
            "32014d6184e54afd86dba48b26da18c8",
            "13fe939d4a324d7b82d4de5c1ef747db",
            "2c726805dab14d63994da79e43225825",
            "09c42a3a236d45bda8b86b3b756d9756",
            "6959f6d5f3ee4e1aa79662f4359138ba"
          ]
        },
        "id": "IV9nHKxT4PPy",
        "outputId": "c947d8ae-38ee-4def-c04b-0f49f1f47768"
      },
      "outputs": [
        {
          "output_type": "display_data",
          "data": {
            "text/plain": [
              "  0%|          | 0/1612 [00:00<?, ?it/s]"
            ],
            "application/vnd.jupyter.widget-view+json": {
              "version_major": 2,
              "version_minor": 0,
              "model_id": "d7ed5eae024049f6aa67988a6c118546"
            }
          },
          "metadata": {}
        }
      ],
      "source": [
        "acc_history = train(model, dataloader, loss_function, lr, num_epochs)"
      ]
    },
    {
      "cell_type": "code",
      "execution_count": null,
      "metadata": {
        "id": "vx05lI43xmrb"
      },
      "outputs": [],
      "source": [
        "acc_history"
      ]
    },
    {
      "cell_type": "code",
      "execution_count": null,
      "metadata": {
        "id": "Or05uIYlySRY"
      },
      "outputs": [],
      "source": [
        "import matplotlib.pyplot as plt\n",
        "\n",
        "plt.plot(acc_history)"
      ]
    },
    {
      "cell_type": "code",
      "execution_count": null,
      "metadata": {
        "id": "eY2KcLoHye2c"
      },
      "outputs": [],
      "source": [
        ""
      ]
    }
  ],
  "metadata": {
    "accelerator": "GPU",
    "colab": {
      "collapsed_sections": [],
      "name": "RNN Training.ipynb",
      "provenance": []
    },
    "gpuClass": "standard",
    "interpreter": {
      "hash": "1242238a27090cfd0a9f95cca18072a5b0343382fab30269241b63569e4c53cd"
    },
    "kernelspec": {
      "display_name": "Python 3.9.12 64-bit ('datascience': conda)",
      "name": "python3"
    },
    "language_info": {
      "codemirror_mode": {
        "name": "ipython",
        "version": 3
      },
      "file_extension": ".py",
      "mimetype": "text/x-python",
      "name": "python",
      "nbconvert_exporter": "python",
      "pygments_lexer": "ipython3",
      "version": "3.9.12"
    },
    "vscode": {
      "interpreter": {
        "hash": "e79170ae290057d802c0bc8323610d82df653b25ece5c46593757efbea4a04e3"
      }
    },
    "widgets": {
      "application/vnd.jupyter.widget-state+json": {
        "d7ed5eae024049f6aa67988a6c118546": {
          "model_module": "@jupyter-widgets/controls",
          "model_name": "HBoxModel",
          "model_module_version": "1.5.0",
          "state": {
            "_dom_classes": [],
            "_model_module": "@jupyter-widgets/controls",
            "_model_module_version": "1.5.0",
            "_model_name": "HBoxModel",
            "_view_count": null,
            "_view_module": "@jupyter-widgets/controls",
            "_view_module_version": "1.5.0",
            "_view_name": "HBoxView",
            "box_style": "",
            "children": [
              "IPY_MODEL_9ca96a496e414b3da195f6828ae5f361",
              "IPY_MODEL_54ff2da6dfd74514be3600a0f84b6d24",
              "IPY_MODEL_aab4f4e178db4f3b8a31dd35638c7eb8"
            ],
            "layout": "IPY_MODEL_482f2f03e77240748dc162ceae15d70f"
          }
        },
        "9ca96a496e414b3da195f6828ae5f361": {
          "model_module": "@jupyter-widgets/controls",
          "model_name": "HTMLModel",
          "model_module_version": "1.5.0",
          "state": {
            "_dom_classes": [],
            "_model_module": "@jupyter-widgets/controls",
            "_model_module_version": "1.5.0",
            "_model_name": "HTMLModel",
            "_view_count": null,
            "_view_module": "@jupyter-widgets/controls",
            "_view_module_version": "1.5.0",
            "_view_name": "HTMLView",
            "description": "",
            "description_tooltip": null,
            "layout": "IPY_MODEL_171624f49c8e417eaf851a26ed4eba94",
            "placeholder": "​",
            "style": "IPY_MODEL_32014d6184e54afd86dba48b26da18c8",
            "value": "  5%"
          }
        },
        "54ff2da6dfd74514be3600a0f84b6d24": {
          "model_module": "@jupyter-widgets/controls",
          "model_name": "FloatProgressModel",
          "model_module_version": "1.5.0",
          "state": {
            "_dom_classes": [],
            "_model_module": "@jupyter-widgets/controls",
            "_model_module_version": "1.5.0",
            "_model_name": "FloatProgressModel",
            "_view_count": null,
            "_view_module": "@jupyter-widgets/controls",
            "_view_module_version": "1.5.0",
            "_view_name": "ProgressView",
            "bar_style": "",
            "description": "",
            "description_tooltip": null,
            "layout": "IPY_MODEL_13fe939d4a324d7b82d4de5c1ef747db",
            "max": 1612,
            "min": 0,
            "orientation": "horizontal",
            "style": "IPY_MODEL_2c726805dab14d63994da79e43225825",
            "value": 76
          }
        },
        "aab4f4e178db4f3b8a31dd35638c7eb8": {
          "model_module": "@jupyter-widgets/controls",
          "model_name": "HTMLModel",
          "model_module_version": "1.5.0",
          "state": {
            "_dom_classes": [],
            "_model_module": "@jupyter-widgets/controls",
            "_model_module_version": "1.5.0",
            "_model_name": "HTMLModel",
            "_view_count": null,
            "_view_module": "@jupyter-widgets/controls",
            "_view_module_version": "1.5.0",
            "_view_name": "HTMLView",
            "description": "",
            "description_tooltip": null,
            "layout": "IPY_MODEL_09c42a3a236d45bda8b86b3b756d9756",
            "placeholder": "​",
            "style": "IPY_MODEL_6959f6d5f3ee4e1aa79662f4359138ba",
            "value": " 76/1612 [01:23&lt;29:01,  1.13s/it]"
          }
        },
        "482f2f03e77240748dc162ceae15d70f": {
          "model_module": "@jupyter-widgets/base",
          "model_name": "LayoutModel",
          "model_module_version": "1.2.0",
          "state": {
            "_model_module": "@jupyter-widgets/base",
            "_model_module_version": "1.2.0",
            "_model_name": "LayoutModel",
            "_view_count": null,
            "_view_module": "@jupyter-widgets/base",
            "_view_module_version": "1.2.0",
            "_view_name": "LayoutView",
            "align_content": null,
            "align_items": null,
            "align_self": null,
            "border": null,
            "bottom": null,
            "display": null,
            "flex": null,
            "flex_flow": null,
            "grid_area": null,
            "grid_auto_columns": null,
            "grid_auto_flow": null,
            "grid_auto_rows": null,
            "grid_column": null,
            "grid_gap": null,
            "grid_row": null,
            "grid_template_areas": null,
            "grid_template_columns": null,
            "grid_template_rows": null,
            "height": null,
            "justify_content": null,
            "justify_items": null,
            "left": null,
            "margin": null,
            "max_height": null,
            "max_width": null,
            "min_height": null,
            "min_width": null,
            "object_fit": null,
            "object_position": null,
            "order": null,
            "overflow": null,
            "overflow_x": null,
            "overflow_y": null,
            "padding": null,
            "right": null,
            "top": null,
            "visibility": null,
            "width": null
          }
        },
        "171624f49c8e417eaf851a26ed4eba94": {
          "model_module": "@jupyter-widgets/base",
          "model_name": "LayoutModel",
          "model_module_version": "1.2.0",
          "state": {
            "_model_module": "@jupyter-widgets/base",
            "_model_module_version": "1.2.0",
            "_model_name": "LayoutModel",
            "_view_count": null,
            "_view_module": "@jupyter-widgets/base",
            "_view_module_version": "1.2.0",
            "_view_name": "LayoutView",
            "align_content": null,
            "align_items": null,
            "align_self": null,
            "border": null,
            "bottom": null,
            "display": null,
            "flex": null,
            "flex_flow": null,
            "grid_area": null,
            "grid_auto_columns": null,
            "grid_auto_flow": null,
            "grid_auto_rows": null,
            "grid_column": null,
            "grid_gap": null,
            "grid_row": null,
            "grid_template_areas": null,
            "grid_template_columns": null,
            "grid_template_rows": null,
            "height": null,
            "justify_content": null,
            "justify_items": null,
            "left": null,
            "margin": null,
            "max_height": null,
            "max_width": null,
            "min_height": null,
            "min_width": null,
            "object_fit": null,
            "object_position": null,
            "order": null,
            "overflow": null,
            "overflow_x": null,
            "overflow_y": null,
            "padding": null,
            "right": null,
            "top": null,
            "visibility": null,
            "width": null
          }
        },
        "32014d6184e54afd86dba48b26da18c8": {
          "model_module": "@jupyter-widgets/controls",
          "model_name": "DescriptionStyleModel",
          "model_module_version": "1.5.0",
          "state": {
            "_model_module": "@jupyter-widgets/controls",
            "_model_module_version": "1.5.0",
            "_model_name": "DescriptionStyleModel",
            "_view_count": null,
            "_view_module": "@jupyter-widgets/base",
            "_view_module_version": "1.2.0",
            "_view_name": "StyleView",
            "description_width": ""
          }
        },
        "13fe939d4a324d7b82d4de5c1ef747db": {
          "model_module": "@jupyter-widgets/base",
          "model_name": "LayoutModel",
          "model_module_version": "1.2.0",
          "state": {
            "_model_module": "@jupyter-widgets/base",
            "_model_module_version": "1.2.0",
            "_model_name": "LayoutModel",
            "_view_count": null,
            "_view_module": "@jupyter-widgets/base",
            "_view_module_version": "1.2.0",
            "_view_name": "LayoutView",
            "align_content": null,
            "align_items": null,
            "align_self": null,
            "border": null,
            "bottom": null,
            "display": null,
            "flex": null,
            "flex_flow": null,
            "grid_area": null,
            "grid_auto_columns": null,
            "grid_auto_flow": null,
            "grid_auto_rows": null,
            "grid_column": null,
            "grid_gap": null,
            "grid_row": null,
            "grid_template_areas": null,
            "grid_template_columns": null,
            "grid_template_rows": null,
            "height": null,
            "justify_content": null,
            "justify_items": null,
            "left": null,
            "margin": null,
            "max_height": null,
            "max_width": null,
            "min_height": null,
            "min_width": null,
            "object_fit": null,
            "object_position": null,
            "order": null,
            "overflow": null,
            "overflow_x": null,
            "overflow_y": null,
            "padding": null,
            "right": null,
            "top": null,
            "visibility": null,
            "width": null
          }
        },
        "2c726805dab14d63994da79e43225825": {
          "model_module": "@jupyter-widgets/controls",
          "model_name": "ProgressStyleModel",
          "model_module_version": "1.5.0",
          "state": {
            "_model_module": "@jupyter-widgets/controls",
            "_model_module_version": "1.5.0",
            "_model_name": "ProgressStyleModel",
            "_view_count": null,
            "_view_module": "@jupyter-widgets/base",
            "_view_module_version": "1.2.0",
            "_view_name": "StyleView",
            "bar_color": null,
            "description_width": ""
          }
        },
        "09c42a3a236d45bda8b86b3b756d9756": {
          "model_module": "@jupyter-widgets/base",
          "model_name": "LayoutModel",
          "model_module_version": "1.2.0",
          "state": {
            "_model_module": "@jupyter-widgets/base",
            "_model_module_version": "1.2.0",
            "_model_name": "LayoutModel",
            "_view_count": null,
            "_view_module": "@jupyter-widgets/base",
            "_view_module_version": "1.2.0",
            "_view_name": "LayoutView",
            "align_content": null,
            "align_items": null,
            "align_self": null,
            "border": null,
            "bottom": null,
            "display": null,
            "flex": null,
            "flex_flow": null,
            "grid_area": null,
            "grid_auto_columns": null,
            "grid_auto_flow": null,
            "grid_auto_rows": null,
            "grid_column": null,
            "grid_gap": null,
            "grid_row": null,
            "grid_template_areas": null,
            "grid_template_columns": null,
            "grid_template_rows": null,
            "height": null,
            "justify_content": null,
            "justify_items": null,
            "left": null,
            "margin": null,
            "max_height": null,
            "max_width": null,
            "min_height": null,
            "min_width": null,
            "object_fit": null,
            "object_position": null,
            "order": null,
            "overflow": null,
            "overflow_x": null,
            "overflow_y": null,
            "padding": null,
            "right": null,
            "top": null,
            "visibility": null,
            "width": null
          }
        },
        "6959f6d5f3ee4e1aa79662f4359138ba": {
          "model_module": "@jupyter-widgets/controls",
          "model_name": "DescriptionStyleModel",
          "model_module_version": "1.5.0",
          "state": {
            "_model_module": "@jupyter-widgets/controls",
            "_model_module_version": "1.5.0",
            "_model_name": "DescriptionStyleModel",
            "_view_count": null,
            "_view_module": "@jupyter-widgets/base",
            "_view_module_version": "1.2.0",
            "_view_name": "StyleView",
            "description_width": ""
          }
        }
      }
    }
  },
  "nbformat": 4,
  "nbformat_minor": 0
}