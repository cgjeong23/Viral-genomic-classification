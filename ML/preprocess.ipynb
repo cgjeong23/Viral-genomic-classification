{
 "cells": [
  {
   "cell_type": "code",
   "execution_count": null,
   "metadata": {},
   "outputs": [],
   "source": [
    "def read_fasta(filename):\n",
    "    with open(filename) as f:\n",
    "        lines = f.readlines()\n",
    "        all_sequences = {}  # sequence name: sequence\n",
    "        current_sequence = []  # current sequence\n",
    "        \n",
    "        for line in lines:\n",
    "            if line.startswith('>'):\n",
    "                sequence_name = line[1:].strip()\n",
    "                if len(current_sequence) == 0:\n",
    "                    # this is the first sequence\n",
    "                    continue\n",
    "                else:\n",
    "                    all_sequences[sequence_name] = ''.join(current_sequence)\n",
    "                    current_sequence = []\n",
    "                continue\n",
    "                \n",
    "            current_sequence.append(line.strip())\n",
    "            \n",
    "    return all_sequences\n",
    "                "
   ]
  },
  {
   "cell_type": "markdown",
   "metadata": {},
   "source": [
    "## Write into 1 file"
   ]
  },
  {
   "cell_type": "code",
   "execution_count": 7,
   "metadata": {},
   "outputs": [],
   "source": [
    "import os\n",
    "\n",
    "all_sequences = []\n",
    "for folder_name in os.listdir('trainingdata'):\n",
    "    for filename in os.listdir(f'trainingdata/{folder_name}'):\n",
    "        fullname = f'trainingdata/{folder_name}/{filename}'\n",
    "        \n",
    "        with open(fullname) as f:\n",
    "            for line in f:\n",
    "                if line.startswith('>'):\n",
    "                    continue\n",
    "                all_sequences.append(line.strip())\n",
    "                "
   ]
  },
  {
   "cell_type": "code",
   "execution_count": 8,
   "metadata": {},
   "outputs": [
    {
     "data": {
      "text/plain": [
       "7968916"
      ]
     },
     "execution_count": 8,
     "metadata": {},
     "output_type": "execute_result"
    }
   ],
   "source": [
    "len(all_sequences)"
   ]
  },
  {
   "cell_type": "code",
   "execution_count": null,
   "metadata": {},
   "outputs": [],
   "source": [
    "with open('trainingdata/all_sequences.fasta', 'w') as f:\n",
    "    for line in all_sequences:\n",
    "        f.write(line + '\\n')"
   ]
  },
  {
   "cell_type": "code",
   "execution_count": null,
   "metadata": {},
   "outputs": [],
   "source": []
  }
 ],
 "metadata": {
  "kernelspec": {
   "display_name": "Python 3.9.10 ('tf-m1')",
   "language": "python",
   "name": "python3"
  },
  "language_info": {
   "codemirror_mode": {
    "name": "ipython",
    "version": 3
   },
   "file_extension": ".py",
   "mimetype": "text/x-python",
   "name": "python",
   "nbconvert_exporter": "python",
   "pygments_lexer": "ipython3",
   "version": "3.9.10"
  },
  "orig_nbformat": 4,
  "vscode": {
   "interpreter": {
    "hash": "e79170ae290057d802c0bc8323610d82df653b25ece5c46593757efbea4a04e3"
   }
  }
 },
 "nbformat": 4,
 "nbformat_minor": 2
}
