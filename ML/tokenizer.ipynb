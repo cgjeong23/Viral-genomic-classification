{
 "cells": [
  {
   "cell_type": "code",
   "execution_count": null,
   "metadata": {
    "vscode": {
     "languageId": "shellscript"
    }
   },
   "outputs": [],
   "source": [
    "pip install datasets tokenizers"
   ]
  },
  {
   "cell_type": "markdown",
   "metadata": {},
   "source": [
    "## Load dataset"
   ]
  },
  {
   "cell_type": "code",
   "execution_count": 13,
   "metadata": {},
   "outputs": [],
   "source": [
    "import os\n",
    "import math\n",
    "\n",
    "from datasets import load_dataset\n",
    "from tokenizers import Tokenizer\n",
    "from tokenizers import models, trainers\n",
    "\n",
    "base_path = 'trainingdata'"
   ]
  },
  {
   "cell_type": "code",
   "execution_count": null,
   "metadata": {},
   "outputs": [],
   "source": [
    "files = [\n",
    "    f'{base_path}/{folder}/{file_name}' for folder in os.listdir(base_path)\n",
    "    if os.path.isdir(f'{base_path}/{folder}')\n",
    "    for file_name in os.listdir(f'{base_path}/{folder}')\n",
    "]"
   ]
  },
  {
   "cell_type": "code",
   "execution_count": 14,
   "metadata": {},
   "outputs": [
    {
     "name": "stderr",
     "output_type": "stream",
     "text": [
      "Resolving data files: 100%|██████████| 363/363 [00:00<00:00, 810288.64it/s]\n",
      "Using custom data configuration default-36ba59f92a81909b\n",
      "Reusing dataset text (/Users/synch/.cache/huggingface/datasets/text/default-36ba59f92a81909b/0.0.0/acc32f2f2ef863c93c2f30c52f7df6cc9053a1c2230b8d7da0d210404683ca08)\n",
      "100%|██████████| 15938/15938 [00:19<00:00, 811.32ba/s]\n"
     ]
    }
   ],
   "source": [
    "\n",
    "dataset = load_dataset('text', data_files=files, split='train')\n",
    "dataset = dataset.filter(lambda line: not line['text'].startswith('>'))"
   ]
  },
  {
   "cell_type": "code",
   "execution_count": 15,
   "metadata": {},
   "outputs": [
    {
     "data": {
      "text/plain": [
       "{'text': 'ACAAATTATGATGGAAGTATACACCCTATATGGTTCCAAGCCCTTAAAGAAGTCTTATCCAACTTGGGGTTTGACTCCAATTTAATAGACAGAATATGTAAGTCAAAGCACATTTTTAAAAACATGTATTATGAAGTTGAAGGAGGGGTA'}"
      ]
     },
     "execution_count": 15,
     "metadata": {},
     "output_type": "execute_result"
    }
   ],
   "source": [
    "dataset[0]"
   ]
  },
  {
   "cell_type": "code",
   "execution_count": 16,
   "metadata": {},
   "outputs": [],
   "source": [
    "\n",
    "def batch_iterator(batch_size=1000):\n",
    "    for i in range(0, len(dataset), batch_size):\n",
    "        yield dataset[i:i + batch_size][\"text\"]"
   ]
  },
  {
   "cell_type": "markdown",
   "metadata": {},
   "source": [
    "## Train tokenizer"
   ]
  },
  {
   "cell_type": "code",
   "execution_count": 17,
   "metadata": {},
   "outputs": [],
   "source": [
    "tokenizer = Tokenizer(models.BPE(cache_capacity=1000))\n",
    "trainer = trainers.BpeTrainer(show_progress=True, vocab_size=24000)"
   ]
  },
  {
   "cell_type": "code",
   "execution_count": 12,
   "metadata": {},
   "outputs": [],
   "source": [
    "\n",
    "tokenizer.train_from_iterator(batch_iterator(batch_size=1000),\n",
    "                              trainer=trainer,\n",
    "                              length=math.ceil(len(dataset) / 1000))"
   ]
  },
  {
   "cell_type": "code",
   "execution_count": 31,
   "metadata": {},
   "outputs": [
    {
     "data": {
      "text/plain": [
       "['AC', 'GT', 'ATAG', 'AACT', 'TTC']"
      ]
     },
     "execution_count": 31,
     "metadata": {},
     "output_type": "execute_result"
    }
   ],
   "source": [
    "tokenizer.encode('ACTGCTGACGTCA').tokens"
   ]
  },
  {
   "cell_type": "code",
   "execution_count": 4,
   "metadata": {},
   "outputs": [],
   "source": [
    "tokenizer.enable_padding()"
   ]
  },
  {
   "cell_type": "code",
   "execution_count": 32,
   "metadata": {},
   "outputs": [],
   "source": [
    "tokenizer.save(f'{base_path}/gene_tokenizer.json')"
   ]
  },
  {
   "cell_type": "code",
   "execution_count": 34,
   "metadata": {},
   "outputs": [],
   "source": [
    "tok = tokenizer.from_file(f'{base_path}/gene_tokenizer.json')"
   ]
  },
  {
   "cell_type": "code",
   "execution_count": null,
   "metadata": {},
   "outputs": [],
   "source": []
  }
 ],
 "metadata": {
  "kernelspec": {
   "display_name": "Python 3.9.10 ('tf-m1')",
   "language": "python",
   "name": "python3"
  },
  "language_info": {
   "codemirror_mode": {
    "name": "ipython",
    "version": 3
   },
   "file_extension": ".py",
   "mimetype": "text/x-python",
   "name": "python",
   "nbconvert_exporter": "python",
   "pygments_lexer": "ipython3",
   "version": "3.9.10"
  },
  "orig_nbformat": 4,
  "vscode": {
   "interpreter": {
    "hash": "e79170ae290057d802c0bc8323610d82df653b25ece5c46593757efbea4a04e3"
   }
  }
 },
 "nbformat": 4,
 "nbformat_minor": 2
}
